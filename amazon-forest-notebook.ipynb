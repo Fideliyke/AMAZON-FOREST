{
 "cells": [
  {
   "cell_type": "code",
   "execution_count": 1,
   "id": "ebc1297e",
   "metadata": {
    "_cell_guid": "b1076dfc-b9ad-4769-8c92-a6c4dae69d19",
    "_uuid": "8f2839f25d086af736a60e9eeb907d3b93b6e0e5",
    "execution": {
     "iopub.execute_input": "2022-09-20T14:08:50.218177Z",
     "iopub.status.busy": "2022-09-20T14:08:50.217712Z",
     "iopub.status.idle": "2022-09-20T14:08:56.344993Z",
     "shell.execute_reply": "2022-09-20T14:08:56.344045Z"
    },
    "papermill": {
     "duration": 6.143678,
     "end_time": "2022-09-20T14:08:56.351490",
     "exception": false,
     "start_time": "2022-09-20T14:08:50.207812",
     "status": "completed"
    },
    "tags": []
   },
   "outputs": [
    {
     "data": {
      "application/vnd.jupyter.widget-view+json": {
       "model_id": "1a0ef1ce157a4205bc9012be98e0fec2",
       "version_major": 2,
       "version_minor": 0
      },
      "text/plain": [
       "0it [00:00, ?it/s]"
      ]
     },
     "metadata": {},
     "output_type": "display_data"
    }
   ],
   "source": [
    "import numpy as np\n",
    "import pandas as pd\n",
    "import warnings\n",
    "warnings.filterwarnings('ignore')\n",
    "import matplotlib.pyplot as plt\n",
    "from sklearn.model_selection import train_test_split\n",
    "from keras.preprocessing.image import img_to_array, load_img\n",
    "from keras.preprocessing.image import ImageDataGenerator\n",
    "from tensorflow.keras.models import Sequential\n",
    "from keras.layers import Dense, Activation, Flatten, Dropout, BatchNormalization\n",
    "from keras.layers import Conv2D, MaxPooling2D\n",
    "from tqdm import tqdm_notebook as tqdm\n",
    "tqdm().pandas()\n",
    "import os\n",
    "import gc\n",
    "import pickle"
   ]
  },
  {
   "cell_type": "code",
   "execution_count": 2,
   "id": "29adc674",
   "metadata": {
    "execution": {
     "iopub.execute_input": "2022-09-20T14:08:56.368259Z",
     "iopub.status.busy": "2022-09-20T14:08:56.367057Z",
     "iopub.status.idle": "2022-09-20T14:08:56.425502Z",
     "shell.execute_reply": "2022-09-20T14:08:56.424635Z"
    },
    "papermill": {
     "duration": 0.068357,
     "end_time": "2022-09-20T14:08:56.427505",
     "exception": false,
     "start_time": "2022-09-20T14:08:56.359148",
     "status": "completed"
    },
    "tags": []
   },
   "outputs": [],
   "source": [
    "train_data = pd.read_csv('../input/planets-dataset/planet/planet/train_classes.csv')"
   ]
  },
  {
   "cell_type": "code",
   "execution_count": 3,
   "id": "3c974ab9",
   "metadata": {
    "execution": {
     "iopub.execute_input": "2022-09-20T14:08:56.443453Z",
     "iopub.status.busy": "2022-09-20T14:08:56.442599Z",
     "iopub.status.idle": "2022-09-20T14:08:56.450088Z",
     "shell.execute_reply": "2022-09-20T14:08:56.449142Z"
    },
    "papermill": {
     "duration": 0.017259,
     "end_time": "2022-09-20T14:08:56.451981",
     "exception": false,
     "start_time": "2022-09-20T14:08:56.434722",
     "status": "completed"
    },
    "tags": []
   },
   "outputs": [
    {
     "data": {
      "text/plain": [
       "(40479, 2)"
      ]
     },
     "execution_count": 3,
     "metadata": {},
     "output_type": "execute_result"
    }
   ],
   "source": [
    "train_data.shape"
   ]
  },
  {
   "cell_type": "code",
   "execution_count": 4,
   "id": "548e8137",
   "metadata": {
    "execution": {
     "iopub.execute_input": "2022-09-20T14:08:56.467741Z",
     "iopub.status.busy": "2022-09-20T14:08:56.466924Z",
     "iopub.status.idle": "2022-09-20T14:08:56.480522Z",
     "shell.execute_reply": "2022-09-20T14:08:56.479552Z"
    },
    "papermill": {
     "duration": 0.023441,
     "end_time": "2022-09-20T14:08:56.482546",
     "exception": false,
     "start_time": "2022-09-20T14:08:56.459105",
     "status": "completed"
    },
    "tags": []
   },
   "outputs": [
    {
     "data": {
      "text/html": [
       "<div>\n",
       "<style scoped>\n",
       "    .dataframe tbody tr th:only-of-type {\n",
       "        vertical-align: middle;\n",
       "    }\n",
       "\n",
       "    .dataframe tbody tr th {\n",
       "        vertical-align: top;\n",
       "    }\n",
       "\n",
       "    .dataframe thead th {\n",
       "        text-align: right;\n",
       "    }\n",
       "</style>\n",
       "<table border=\"1\" class=\"dataframe\">\n",
       "  <thead>\n",
       "    <tr style=\"text-align: right;\">\n",
       "      <th></th>\n",
       "      <th>image_name</th>\n",
       "      <th>tags</th>\n",
       "    </tr>\n",
       "  </thead>\n",
       "  <tbody>\n",
       "    <tr>\n",
       "      <th>0</th>\n",
       "      <td>train_0</td>\n",
       "      <td>haze primary</td>\n",
       "    </tr>\n",
       "    <tr>\n",
       "      <th>1</th>\n",
       "      <td>train_1</td>\n",
       "      <td>agriculture clear primary water</td>\n",
       "    </tr>\n",
       "    <tr>\n",
       "      <th>2</th>\n",
       "      <td>train_2</td>\n",
       "      <td>clear primary</td>\n",
       "    </tr>\n",
       "    <tr>\n",
       "      <th>3</th>\n",
       "      <td>train_3</td>\n",
       "      <td>clear primary</td>\n",
       "    </tr>\n",
       "    <tr>\n",
       "      <th>4</th>\n",
       "      <td>train_4</td>\n",
       "      <td>agriculture clear habitation primary road</td>\n",
       "    </tr>\n",
       "  </tbody>\n",
       "</table>\n",
       "</div>"
      ],
      "text/plain": [
       "  image_name                                       tags\n",
       "0    train_0                               haze primary\n",
       "1    train_1            agriculture clear primary water\n",
       "2    train_2                              clear primary\n",
       "3    train_3                              clear primary\n",
       "4    train_4  agriculture clear habitation primary road"
      ]
     },
     "execution_count": 4,
     "metadata": {},
     "output_type": "execute_result"
    }
   ],
   "source": [
    "train_data.head()"
   ]
  },
  {
   "cell_type": "code",
   "execution_count": 5,
   "id": "630c1ae8",
   "metadata": {
    "execution": {
     "iopub.execute_input": "2022-09-20T14:08:56.498643Z",
     "iopub.status.busy": "2022-09-20T14:08:56.497910Z",
     "iopub.status.idle": "2022-09-20T14:08:56.553575Z",
     "shell.execute_reply": "2022-09-20T14:08:56.552245Z"
    },
    "papermill": {
     "duration": 0.065716,
     "end_time": "2022-09-20T14:08:56.555623",
     "exception": false,
     "start_time": "2022-09-20T14:08:56.489907",
     "status": "completed"
    },
    "tags": []
   },
   "outputs": [
    {
     "name": "stdout",
     "output_type": "stream",
     "text": [
      "Number of Classes:  17\n"
     ]
    }
   ],
   "source": [
    "#Split the\n",
    "splitted_tags = train_data['tags'].map(lambda x: x.split(' '))\n",
    "label_list=[]\n",
    "for i in splitted_tags:\n",
    "    for j in i:\n",
    "        if j not in label_list:\n",
    "            label_list.append(j)\n",
    "print('Number of Classes: ',len(label_list))"
   ]
  },
  {
   "cell_type": "code",
   "execution_count": 6,
   "id": "81825162",
   "metadata": {
    "execution": {
     "iopub.execute_input": "2022-09-20T14:08:56.572851Z",
     "iopub.status.busy": "2022-09-20T14:08:56.572583Z",
     "iopub.status.idle": "2022-09-20T14:08:56.578295Z",
     "shell.execute_reply": "2022-09-20T14:08:56.577352Z"
    },
    "papermill": {
     "duration": 0.015755,
     "end_time": "2022-09-20T14:08:56.580122",
     "exception": false,
     "start_time": "2022-09-20T14:08:56.564367",
     "status": "completed"
    },
    "tags": []
   },
   "outputs": [
    {
     "data": {
      "text/plain": [
       "['haze',\n",
       " 'primary',\n",
       " 'agriculture',\n",
       " 'clear',\n",
       " 'water',\n",
       " 'habitation',\n",
       " 'road',\n",
       " 'cultivation',\n",
       " 'slash_burn',\n",
       " 'cloudy',\n",
       " 'partly_cloudy',\n",
       " 'conventional_mine',\n",
       " 'bare_ground',\n",
       " 'artisinal_mine',\n",
       " 'blooming',\n",
       " 'selective_logging',\n",
       " 'blow_down']"
      ]
     },
     "execution_count": 6,
     "metadata": {},
     "output_type": "execute_result"
    }
   ],
   "source": [
    "#The classes\n",
    "label_list"
   ]
  },
  {
   "cell_type": "code",
   "execution_count": 7,
   "id": "f6d9bae0",
   "metadata": {
    "execution": {
     "iopub.execute_input": "2022-09-20T14:08:56.597224Z",
     "iopub.status.busy": "2022-09-20T14:08:56.596162Z",
     "iopub.status.idle": "2022-09-20T14:08:56.636792Z",
     "shell.execute_reply": "2022-09-20T14:08:56.635789Z"
    },
    "papermill": {
     "duration": 0.051149,
     "end_time": "2022-09-20T14:08:56.638853",
     "exception": false,
     "start_time": "2022-09-20T14:08:56.587704",
     "status": "completed"
    },
    "tags": []
   },
   "outputs": [
    {
     "data": {
      "text/plain": [
       "{'haze': 2696,\n",
       " 'primary': 37512,\n",
       " 'agriculture': 12314,\n",
       " 'clear': 28430,\n",
       " 'water': 7410,\n",
       " 'habitation': 3659,\n",
       " 'road': 8070,\n",
       " 'cultivation': 4546,\n",
       " 'slash_burn': 208,\n",
       " 'cloudy': 2088,\n",
       " 'partly_cloudy': 7260,\n",
       " 'conventional_mine': 99,\n",
       " 'bare_ground': 861,\n",
       " 'artisinal_mine': 338,\n",
       " 'blooming': 331,\n",
       " 'selective_logging': 339,\n",
       " 'blow_down': 100}"
      ]
     },
     "execution_count": 7,
     "metadata": {},
     "output_type": "execute_result"
    }
   ],
   "source": [
    "#The distribution of the classes\n",
    "counts = {}\n",
    "for labels in splitted_tags.values:\n",
    "    for label in labels:\n",
    "        counts[label] = counts[label] + 1  if label in counts else 0\n",
    "counts"
   ]
  },
  {
   "cell_type": "code",
   "execution_count": 8,
   "id": "d740717d",
   "metadata": {
    "execution": {
     "iopub.execute_input": "2022-09-20T14:08:56.655677Z",
     "iopub.status.busy": "2022-09-20T14:08:56.655423Z",
     "iopub.status.idle": "2022-09-20T14:08:56.726842Z",
     "shell.execute_reply": "2022-09-20T14:08:56.725847Z"
    },
    "papermill": {
     "duration": 0.084506,
     "end_time": "2022-09-20T14:08:56.730944",
     "exception": false,
     "start_time": "2022-09-20T14:08:56.646438",
     "status": "completed"
    },
    "tags": []
   },
   "outputs": [
    {
     "data": {
      "application/vnd.jupyter.widget-view+json": {
       "model_id": "23d738f46dba49b09e1b3c62daa89a38",
       "version_major": 2,
       "version_minor": 0
      },
      "text/plain": [
       "  0%|          | 0/40479 [00:00<?, ?it/s]"
      ]
     },
     "metadata": {},
     "output_type": "display_data"
    },
    {
     "data": {
      "text/plain": [
       "{'agriculture': 0,\n",
       " 'artisinal_mine': 1,\n",
       " 'bare_ground': 2,\n",
       " 'blooming': 3,\n",
       " 'blow_down': 4,\n",
       " 'clear': 5,\n",
       " 'cloudy': 6,\n",
       " 'conventional_mine': 7,\n",
       " 'cultivation': 8,\n",
       " 'habitation': 9,\n",
       " 'haze': 10,\n",
       " 'partly_cloudy': 11,\n",
       " 'primary': 12,\n",
       " 'road': 13,\n",
       " 'selective_logging': 14,\n",
       " 'slash_burn': 15,\n",
       " 'water': 16}"
      ]
     },
     "execution_count": 8,
     "metadata": {},
     "output_type": "execute_result"
    }
   ],
   "source": [
    "def create_mapping(train_data):\n",
    "    tags = set()\n",
    "    for tag in tqdm(list(train_data['tags'].values)):\n",
    "        split = tag.split(' ')\n",
    "        tags.update(split)\n",
    "    tags = list(tags)\n",
    "    tags.sort()\n",
    "    \n",
    "    labels = dict()\n",
    "    for idx, tag in enumerate(tags):\n",
    "        labels[tag] = idx\n",
    "    \n",
    "    return labels\n",
    "\n",
    "labels = create_mapping(train_data)\n",
    "labels"
   ]
  },
  {
   "cell_type": "code",
   "execution_count": 9,
   "id": "701d6a55",
   "metadata": {
    "execution": {
     "iopub.execute_input": "2022-09-20T14:08:56.747765Z",
     "iopub.status.busy": "2022-09-20T14:08:56.747513Z",
     "iopub.status.idle": "2022-09-20T14:08:56.753826Z",
     "shell.execute_reply": "2022-09-20T14:08:56.752952Z"
    },
    "papermill": {
     "duration": 0.017066,
     "end_time": "2022-09-20T14:08:56.755783",
     "exception": false,
     "start_time": "2022-09-20T14:08:56.738717",
     "status": "completed"
    },
    "tags": []
   },
   "outputs": [
    {
     "data": {
      "text/plain": [
       "{'haze': 0,\n",
       " 'primary': 1,\n",
       " 'agriculture': 2,\n",
       " 'clear': 3,\n",
       " 'water': 4,\n",
       " 'habitation': 5,\n",
       " 'road': 6,\n",
       " 'cultivation': 7,\n",
       " 'slash_burn': 8,\n",
       " 'cloudy': 9,\n",
       " 'partly_cloudy': 10,\n",
       " 'conventional_mine': 11,\n",
       " 'bare_ground': 12,\n",
       " 'artisinal_mine': 13,\n",
       " 'blooming': 14,\n",
       " 'selective_logging': 15,\n",
       " 'blow_down': 16}"
      ]
     },
     "execution_count": 9,
     "metadata": {},
     "output_type": "execute_result"
    }
   ],
   "source": [
    "labels = {l: i for i, l in enumerate(counts)}\n",
    "labels"
   ]
  },
  {
   "cell_type": "code",
   "execution_count": 10,
   "id": "a9667057",
   "metadata": {
    "execution": {
     "iopub.execute_input": "2022-09-20T14:08:56.772705Z",
     "iopub.status.busy": "2022-09-20T14:08:56.772462Z",
     "iopub.status.idle": "2022-09-20T14:08:56.777135Z",
     "shell.execute_reply": "2022-09-20T14:08:56.776228Z"
    },
    "papermill": {
     "duration": 0.015379,
     "end_time": "2022-09-20T14:08:56.779007",
     "exception": false,
     "start_time": "2022-09-20T14:08:56.763628",
     "status": "completed"
    },
    "tags": []
   },
   "outputs": [],
   "source": [
    "def encode_tags(file_name, labels):\n",
    "    encoded = np.zeros(len(labels), dtype='uint8')\n",
    "    \n",
    "    tags = train_data.query(f\"image_name == '{file_name.split('.')[0]}'\")['tags'].values[0].split(' ')\n",
    "    for tag in tags:\n",
    "        encoded[labels[tag]] = 1\n",
    "    \n",
    "    return encoded"
   ]
  },
  {
   "cell_type": "code",
   "execution_count": 11,
   "id": "ce7a4b95",
   "metadata": {
    "execution": {
     "iopub.execute_input": "2022-09-20T14:08:56.796025Z",
     "iopub.status.busy": "2022-09-20T14:08:56.795779Z",
     "iopub.status.idle": "2022-09-20T14:08:56.799240Z",
     "shell.execute_reply": "2022-09-20T14:08:56.798350Z"
    },
    "papermill": {
     "duration": 0.014218,
     "end_time": "2022-09-20T14:08:56.801082",
     "exception": false,
     "start_time": "2022-09-20T14:08:56.786864",
     "status": "completed"
    },
    "tags": []
   },
   "outputs": [],
   "source": [
    "train_path = '../input/planets-dataset/planet/planet/train-jpg/'"
   ]
  },
  {
   "cell_type": "code",
   "execution_count": 12,
   "id": "9fb7fe60",
   "metadata": {
    "execution": {
     "iopub.execute_input": "2022-09-20T14:08:56.818176Z",
     "iopub.status.busy": "2022-09-20T14:08:56.817460Z",
     "iopub.status.idle": "2022-09-20T14:08:56.824212Z",
     "shell.execute_reply": "2022-09-20T14:08:56.822829Z"
    },
    "papermill": {
     "duration": 0.017148,
     "end_time": "2022-09-20T14:08:56.826085",
     "exception": false,
     "start_time": "2022-09-20T14:08:56.808937",
     "status": "completed"
    },
    "tags": []
   },
   "outputs": [],
   "source": [
    "def create_variables(labels):\n",
    "    images, targets = list(), list()\n",
    "    \n",
    "    for file_name in tqdm(os.listdir(train_path)[:35000]):\n",
    "        photo = load_img(train_path + file_name , target_size = (128, 128))\n",
    "        photo = img_to_array(photo, dtype='uint8')\n",
    "        \n",
    "        encoded = encode_tags(file_name, labels)\n",
    "        \n",
    "        images.append(photo)\n",
    "        targets.append(encoded)\n",
    "    \n",
    "    X = np.asarray(images, dtype='uint8')\n",
    "    y = np.asarray(targets)\n",
    "    \n",
    "    \n",
    "    return X, y"
   ]
  },
  {
   "cell_type": "code",
   "execution_count": 13,
   "id": "ad62888d",
   "metadata": {
    "execution": {
     "iopub.execute_input": "2022-09-20T14:08:56.843534Z",
     "iopub.status.busy": "2022-09-20T14:08:56.842802Z",
     "iopub.status.idle": "2022-09-20T14:13:46.612676Z",
     "shell.execute_reply": "2022-09-20T14:13:46.611621Z"
    },
    "papermill": {
     "duration": 289.781292,
     "end_time": "2022-09-20T14:13:46.615290",
     "exception": false,
     "start_time": "2022-09-20T14:08:56.833998",
     "status": "completed"
    },
    "tags": []
   },
   "outputs": [
    {
     "data": {
      "application/vnd.jupyter.widget-view+json": {
       "model_id": "6a7c78ce00e04277bf3729f6041368f6",
       "version_major": 2,
       "version_minor": 0
      },
      "text/plain": [
       "  0%|          | 0/35000 [00:00<?, ?it/s]"
      ]
     },
     "metadata": {},
     "output_type": "display_data"
    }
   ],
   "source": [
    "X, y = create_variables(labels)"
   ]
  },
  {
   "cell_type": "code",
   "execution_count": 14,
   "id": "d8fec8ef",
   "metadata": {
    "execution": {
     "iopub.execute_input": "2022-09-20T14:13:46.634851Z",
     "iopub.status.busy": "2022-09-20T14:13:46.633929Z",
     "iopub.status.idle": "2022-09-20T14:13:46.638642Z",
     "shell.execute_reply": "2022-09-20T14:13:46.637820Z"
    },
    "papermill": {
     "duration": 0.016006,
     "end_time": "2022-09-20T14:13:46.640535",
     "exception": false,
     "start_time": "2022-09-20T14:13:46.624529",
     "status": "completed"
    },
    "tags": []
   },
   "outputs": [],
   "source": [
    "image_name = X\n",
    "tags = y"
   ]
  },
  {
   "cell_type": "code",
   "execution_count": 15,
   "id": "8a3ab63d",
   "metadata": {
    "execution": {
     "iopub.execute_input": "2022-09-20T14:13:46.658467Z",
     "iopub.status.busy": "2022-09-20T14:13:46.658155Z",
     "iopub.status.idle": "2022-09-20T14:15:14.667531Z",
     "shell.execute_reply": "2022-09-20T14:15:14.666542Z"
    },
    "papermill": {
     "duration": 88.021145,
     "end_time": "2022-09-20T14:15:14.670117",
     "exception": false,
     "start_time": "2022-09-20T14:13:46.648972",
     "status": "completed"
    },
    "tags": []
   },
   "outputs": [],
   "source": [
    "np.savez_compressed('planet_data.npz', image_name, tags)"
   ]
  },
  {
   "cell_type": "code",
   "execution_count": 16,
   "id": "0b863540",
   "metadata": {
    "execution": {
     "iopub.execute_input": "2022-09-20T14:15:14.688245Z",
     "iopub.status.busy": "2022-09-20T14:15:14.687931Z",
     "iopub.status.idle": "2022-09-20T14:15:14.854701Z",
     "shell.execute_reply": "2022-09-20T14:15:14.853791Z"
    },
    "papermill": {
     "duration": 0.177802,
     "end_time": "2022-09-20T14:15:14.856584",
     "exception": false,
     "start_time": "2022-09-20T14:15:14.678782",
     "status": "completed"
    },
    "tags": []
   },
   "outputs": [
    {
     "data": {
      "text/plain": [
       "361"
      ]
     },
     "execution_count": 16,
     "metadata": {},
     "output_type": "execute_result"
    }
   ],
   "source": [
    "del X, y\n",
    "del image_name, tags\n",
    "del train_data\n",
    "gc.collect()"
   ]
  },
  {
   "cell_type": "code",
   "execution_count": 17,
   "id": "344ef72f",
   "metadata": {
    "execution": {
     "iopub.execute_input": "2022-09-20T14:15:14.874955Z",
     "iopub.status.busy": "2022-09-20T14:15:14.874204Z",
     "iopub.status.idle": "2022-09-20T14:15:27.786737Z",
     "shell.execute_reply": "2022-09-20T14:15:27.785742Z"
    },
    "papermill": {
     "duration": 12.92458,
     "end_time": "2022-09-20T14:15:27.789445",
     "exception": false,
     "start_time": "2022-09-20T14:15:14.864865",
     "status": "completed"
    },
    "tags": []
   },
   "outputs": [],
   "source": [
    "def load_dataset():\n",
    "    data = np.load('./planet_data.npz')\n",
    "    \n",
    "    image_name, tags = data['arr_0'], data['arr_1']\n",
    "    \n",
    "    X_train, X_test, y_train, y_test = train_test_split(image_name, tags, test_size=0.3, random_state=1)\n",
    "    \n",
    "    return X_train, X_test, y_train, y_test\n",
    "\n",
    "X_train, X_test, y_train, y_test = load_dataset()"
   ]
  },
  {
   "cell_type": "code",
   "execution_count": 18,
   "id": "ae9c8e41",
   "metadata": {
    "execution": {
     "iopub.execute_input": "2022-09-20T14:15:27.807398Z",
     "iopub.status.busy": "2022-09-20T14:15:27.807066Z",
     "iopub.status.idle": "2022-09-20T14:15:27.813094Z",
     "shell.execute_reply": "2022-09-20T14:15:27.812078Z"
    },
    "papermill": {
     "duration": 0.018169,
     "end_time": "2022-09-20T14:15:27.816110",
     "exception": false,
     "start_time": "2022-09-20T14:15:27.797941",
     "status": "completed"
    },
    "tags": []
   },
   "outputs": [
    {
     "data": {
      "text/plain": [
       "(10500, 128, 128, 3)"
      ]
     },
     "execution_count": 18,
     "metadata": {},
     "output_type": "execute_result"
    }
   ],
   "source": [
    "X_test.shape"
   ]
  },
  {
   "cell_type": "code",
   "execution_count": 19,
   "id": "9f309537",
   "metadata": {
    "execution": {
     "iopub.execute_input": "2022-09-20T14:15:27.833811Z",
     "iopub.status.busy": "2022-09-20T14:15:27.833547Z",
     "iopub.status.idle": "2022-09-20T14:15:27.841010Z",
     "shell.execute_reply": "2022-09-20T14:15:27.840147Z"
    },
    "papermill": {
     "duration": 0.018283,
     "end_time": "2022-09-20T14:15:27.842854",
     "exception": false,
     "start_time": "2022-09-20T14:15:27.824571",
     "status": "completed"
    },
    "tags": []
   },
   "outputs": [
    {
     "data": {
      "text/plain": [
       "array([[0, 1, 1, ..., 0, 0, 0],\n",
       "       [0, 1, 0, ..., 0, 0, 0],\n",
       "       [0, 0, 0, ..., 0, 0, 0],\n",
       "       ...,\n",
       "       [0, 1, 0, ..., 0, 0, 0],\n",
       "       [0, 1, 1, ..., 0, 0, 0],\n",
       "       [0, 1, 0, ..., 0, 0, 0]], dtype=uint8)"
      ]
     },
     "execution_count": 19,
     "metadata": {},
     "output_type": "execute_result"
    }
   ],
   "source": [
    "y_test"
   ]
  },
  {
   "cell_type": "code",
   "execution_count": 20,
   "id": "49d38c77",
   "metadata": {
    "execution": {
     "iopub.execute_input": "2022-09-20T14:15:27.861349Z",
     "iopub.status.busy": "2022-09-20T14:15:27.860563Z",
     "iopub.status.idle": "2022-09-20T14:15:28.066880Z",
     "shell.execute_reply": "2022-09-20T14:15:28.065931Z"
    },
    "papermill": {
     "duration": 0.217922,
     "end_time": "2022-09-20T14:15:28.069330",
     "exception": false,
     "start_time": "2022-09-20T14:15:27.851408",
     "status": "completed"
    },
    "tags": []
   },
   "outputs": [],
   "source": [
    "train_yhat = np.asarray([np.ones(y_train.shape[1]) for _ in range(y_train.shape[0])])\n",
    "test_yhat = np.asarray([np.ones(y_test.shape[1]) for _ in range(y_test.shape[0])])\n",
    "\n",
    "train_xhat = np.asarray([np.ones(X_train.shape[1]) for _ in range(X_train.shape[0])])\n",
    "test_xhat = np.asarray([np.ones(X_test.shape[1]) for _ in range(X_test.shape[0])])"
   ]
  },
  {
   "cell_type": "code",
   "execution_count": 21,
   "id": "32bd4eeb",
   "metadata": {
    "execution": {
     "iopub.execute_input": "2022-09-20T14:15:28.087900Z",
     "iopub.status.busy": "2022-09-20T14:15:28.087608Z",
     "iopub.status.idle": "2022-09-20T14:15:28.093367Z",
     "shell.execute_reply": "2022-09-20T14:15:28.092168Z"
    },
    "papermill": {
     "duration": 0.017832,
     "end_time": "2022-09-20T14:15:28.095876",
     "exception": false,
     "start_time": "2022-09-20T14:15:28.078044",
     "status": "completed"
    },
    "tags": []
   },
   "outputs": [
    {
     "name": "stdout",
     "output_type": "stream",
     "text": [
      "Y Shape\n",
      "(24500, 17)\n",
      "(10500, 17)\n",
      "X Shape\n",
      "(24500, 128)\n",
      "(10500, 128)\n"
     ]
    }
   ],
   "source": [
    "print('Y Shape')\n",
    "print(train_yhat.shape)\n",
    "print(test_yhat.shape)\n",
    "print('X Shape')\n",
    "print(train_xhat.shape)\n",
    "print(test_xhat.shape)"
   ]
  },
  {
   "cell_type": "code",
   "execution_count": 22,
   "id": "c9691322",
   "metadata": {
    "execution": {
     "iopub.execute_input": "2022-09-20T14:15:28.114404Z",
     "iopub.status.busy": "2022-09-20T14:15:28.114107Z",
     "iopub.status.idle": "2022-09-20T14:15:28.118159Z",
     "shell.execute_reply": "2022-09-20T14:15:28.117198Z"
    },
    "papermill": {
     "duration": 0.01501,
     "end_time": "2022-09-20T14:15:28.120130",
     "exception": false,
     "start_time": "2022-09-20T14:15:28.105120",
     "status": "completed"
    },
    "tags": []
   },
   "outputs": [],
   "source": [
    "y_train = train_yhat\n",
    "y_test = test_yhat"
   ]
  },
  {
   "cell_type": "code",
   "execution_count": 23,
   "id": "070948e2",
   "metadata": {
    "execution": {
     "iopub.execute_input": "2022-09-20T14:15:28.138014Z",
     "iopub.status.busy": "2022-09-20T14:15:28.137201Z",
     "iopub.status.idle": "2022-09-20T14:15:28.142031Z",
     "shell.execute_reply": "2022-09-20T14:15:28.141226Z"
    },
    "papermill": {
     "duration": 0.015682,
     "end_time": "2022-09-20T14:15:28.144004",
     "exception": false,
     "start_time": "2022-09-20T14:15:28.128322",
     "status": "completed"
    },
    "tags": []
   },
   "outputs": [],
   "source": [
    "new_dimension = np.prod(train_xhat.shape[1:])"
   ]
  },
  {
   "cell_type": "code",
   "execution_count": 24,
   "id": "48998bf1",
   "metadata": {
    "execution": {
     "iopub.execute_input": "2022-09-20T14:15:28.162316Z",
     "iopub.status.busy": "2022-09-20T14:15:28.161581Z",
     "iopub.status.idle": "2022-09-20T14:15:28.167860Z",
     "shell.execute_reply": "2022-09-20T14:15:28.166819Z"
    },
    "papermill": {
     "duration": 0.017323,
     "end_time": "2022-09-20T14:15:28.169834",
     "exception": false,
     "start_time": "2022-09-20T14:15:28.152511",
     "status": "completed"
    },
    "tags": []
   },
   "outputs": [
    {
     "data": {
      "text/plain": [
       "128"
      ]
     },
     "execution_count": 24,
     "metadata": {},
     "output_type": "execute_result"
    }
   ],
   "source": [
    "new_dimension"
   ]
  },
  {
   "cell_type": "code",
   "execution_count": 25,
   "id": "b3c06a91",
   "metadata": {
    "execution": {
     "iopub.execute_input": "2022-09-20T14:15:28.198478Z",
     "iopub.status.busy": "2022-09-20T14:15:28.195737Z",
     "iopub.status.idle": "2022-09-20T14:15:28.206698Z",
     "shell.execute_reply": "2022-09-20T14:15:28.204782Z"
    },
    "papermill": {
     "duration": 0.033209,
     "end_time": "2022-09-20T14:15:28.211351",
     "exception": false,
     "start_time": "2022-09-20T14:15:28.178142",
     "status": "completed"
    },
    "tags": []
   },
   "outputs": [
    {
     "name": "stdout",
     "output_type": "stream",
     "text": [
      "x_train: (24500, 128)\n",
      "x_test: (10500, 128)\n"
     ]
    }
   ],
   "source": [
    "x_train = train_xhat.reshape(train_xhat.shape[0], new_dimension)\n",
    "x_test = test_xhat.reshape(test_xhat.shape[0], new_dimension)\n",
    "print(\"x_train: {}\".format(x_train.shape))\n",
    "print(\"x_test: {}\".format(x_test.shape))"
   ]
  },
  {
   "cell_type": "code",
   "execution_count": 26,
   "id": "ec0f9590",
   "metadata": {
    "execution": {
     "iopub.execute_input": "2022-09-20T14:15:28.248160Z",
     "iopub.status.busy": "2022-09-20T14:15:28.247746Z",
     "iopub.status.idle": "2022-09-20T14:15:28.253555Z",
     "shell.execute_reply": "2022-09-20T14:15:28.252308Z"
    },
    "papermill": {
     "duration": 0.034223,
     "end_time": "2022-09-20T14:15:28.258766",
     "exception": false,
     "start_time": "2022-09-20T14:15:28.224543",
     "status": "completed"
    },
    "tags": []
   },
   "outputs": [],
   "source": [
    "no_labels = np.prod(train_yhat.shape[1:])"
   ]
  },
  {
   "cell_type": "code",
   "execution_count": 27,
   "id": "912c6961",
   "metadata": {
    "execution": {
     "iopub.execute_input": "2022-09-20T14:15:28.293635Z",
     "iopub.status.busy": "2022-09-20T14:15:28.293207Z",
     "iopub.status.idle": "2022-09-20T14:15:28.299556Z",
     "shell.execute_reply": "2022-09-20T14:15:28.298515Z"
    },
    "papermill": {
     "duration": 0.025804,
     "end_time": "2022-09-20T14:15:28.305652",
     "exception": false,
     "start_time": "2022-09-20T14:15:28.279848",
     "status": "completed"
    },
    "tags": []
   },
   "outputs": [
    {
     "data": {
      "text/plain": [
       "17"
      ]
     },
     "execution_count": 27,
     "metadata": {},
     "output_type": "execute_result"
    }
   ],
   "source": [
    "no_labels"
   ]
  },
  {
   "cell_type": "code",
   "execution_count": 28,
   "id": "39372cf9",
   "metadata": {
    "execution": {
     "iopub.execute_input": "2022-09-20T14:15:28.335854Z",
     "iopub.status.busy": "2022-09-20T14:15:28.335553Z",
     "iopub.status.idle": "2022-09-20T14:15:28.345803Z",
     "shell.execute_reply": "2022-09-20T14:15:28.344846Z"
    },
    "papermill": {
     "duration": 0.026893,
     "end_time": "2022-09-20T14:15:28.349401",
     "exception": false,
     "start_time": "2022-09-20T14:15:28.322508",
     "status": "completed"
    },
    "tags": []
   },
   "outputs": [
    {
     "data": {
      "text/plain": [
       "(24500, 17)"
      ]
     },
     "execution_count": 28,
     "metadata": {},
     "output_type": "execute_result"
    }
   ],
   "source": [
    "y_train.shape"
   ]
  },
  {
   "cell_type": "code",
   "execution_count": 29,
   "id": "c9ca2603",
   "metadata": {
    "execution": {
     "iopub.execute_input": "2022-09-20T14:15:28.392111Z",
     "iopub.status.busy": "2022-09-20T14:15:28.391837Z",
     "iopub.status.idle": "2022-09-20T14:15:31.124098Z",
     "shell.execute_reply": "2022-09-20T14:15:31.123109Z"
    },
    "papermill": {
     "duration": 2.75287,
     "end_time": "2022-09-20T14:15:31.126784",
     "exception": false,
     "start_time": "2022-09-20T14:15:28.373914",
     "status": "completed"
    },
    "tags": []
   },
   "outputs": [
    {
     "name": "stderr",
     "output_type": "stream",
     "text": [
      "2022-09-20 14:15:28.498301: I tensorflow/stream_executor/cuda/cuda_gpu_executor.cc:937] successful NUMA node read from SysFS had negative value (-1), but there must be at least one NUMA node, so returning NUMA node zero\n",
      "2022-09-20 14:15:28.612664: I tensorflow/stream_executor/cuda/cuda_gpu_executor.cc:937] successful NUMA node read from SysFS had negative value (-1), but there must be at least one NUMA node, so returning NUMA node zero\n",
      "2022-09-20 14:15:28.613666: I tensorflow/stream_executor/cuda/cuda_gpu_executor.cc:937] successful NUMA node read from SysFS had negative value (-1), but there must be at least one NUMA node, so returning NUMA node zero\n",
      "2022-09-20 14:15:28.616227: I tensorflow/core/platform/cpu_feature_guard.cc:142] This TensorFlow binary is optimized with oneAPI Deep Neural Network Library (oneDNN) to use the following CPU instructions in performance-critical operations:  AVX2 AVX512F FMA\n",
      "To enable them in other operations, rebuild TensorFlow with the appropriate compiler flags.\n",
      "2022-09-20 14:15:28.616572: I tensorflow/stream_executor/cuda/cuda_gpu_executor.cc:937] successful NUMA node read from SysFS had negative value (-1), but there must be at least one NUMA node, so returning NUMA node zero\n",
      "2022-09-20 14:15:28.617526: I tensorflow/stream_executor/cuda/cuda_gpu_executor.cc:937] successful NUMA node read from SysFS had negative value (-1), but there must be at least one NUMA node, so returning NUMA node zero\n",
      "2022-09-20 14:15:28.618429: I tensorflow/stream_executor/cuda/cuda_gpu_executor.cc:937] successful NUMA node read from SysFS had negative value (-1), but there must be at least one NUMA node, so returning NUMA node zero\n",
      "2022-09-20 14:15:30.699205: I tensorflow/stream_executor/cuda/cuda_gpu_executor.cc:937] successful NUMA node read from SysFS had negative value (-1), but there must be at least one NUMA node, so returning NUMA node zero\n",
      "2022-09-20 14:15:30.700056: I tensorflow/stream_executor/cuda/cuda_gpu_executor.cc:937] successful NUMA node read from SysFS had negative value (-1), but there must be at least one NUMA node, so returning NUMA node zero\n",
      "2022-09-20 14:15:30.700816: I tensorflow/stream_executor/cuda/cuda_gpu_executor.cc:937] successful NUMA node read from SysFS had negative value (-1), but there must be at least one NUMA node, so returning NUMA node zero\n",
      "2022-09-20 14:15:30.701432: I tensorflow/core/common_runtime/gpu/gpu_device.cc:1510] Created device /job:localhost/replica:0/task:0/device:GPU:0 with 15401 MB memory:  -> device: 0, name: Tesla P100-PCIE-16GB, pci bus id: 0000:00:04.0, compute capability: 6.0\n"
     ]
    }
   ],
   "source": [
    "import tensorflow as tf\n",
    "from tensorflow.keras.layers import Dense\n",
    "from tensorflow.keras.models import Sequential\n",
    "model = Sequential()\n",
    "model.add(Dense(64, activation='relu', input_shape=(new_dimension,)))\n",
    "model.add(Dense(64, activation='relu'))\n",
    "model.add(Dense(32, activation='relu'))\n",
    "model.add(Dense(32, activation='relu'))\n",
    "model.add(Dense(no_labels, activation='softmax'))\n",
    "model.compile(optimizer='adam', loss=tf.keras.losses.categorical_crossentropy, metrics=['accuracy'])"
   ]
  },
  {
   "cell_type": "code",
   "execution_count": 30,
   "id": "44c2b3d7",
   "metadata": {
    "execution": {
     "iopub.execute_input": "2022-09-20T14:15:31.147030Z",
     "iopub.status.busy": "2022-09-20T14:15:31.145437Z",
     "iopub.status.idle": "2022-09-20T14:15:42.729308Z",
     "shell.execute_reply": "2022-09-20T14:15:42.728145Z"
    },
    "papermill": {
     "duration": 11.595927,
     "end_time": "2022-09-20T14:15:42.731677",
     "exception": false,
     "start_time": "2022-09-20T14:15:31.135750",
     "status": "completed"
    },
    "tags": []
   },
   "outputs": [
    {
     "name": "stderr",
     "output_type": "stream",
     "text": [
      "2022-09-20 14:15:31.220796: I tensorflow/compiler/mlir/mlir_graph_optimization_pass.cc:185] None of the MLIR Optimization Passes are enabled (registered 2)\n"
     ]
    },
    {
     "name": "stdout",
     "output_type": "stream",
     "text": [
      "Epoch 1/20\n",
      "245/245 [==============================] - 2s 2ms/step - loss: 205042.7656 - accuracy: 0.0816\n",
      "Epoch 2/20\n",
      "245/245 [==============================] - 1s 2ms/step - loss: 6464934.0000 - accuracy: 0.1510\n",
      "Epoch 3/20\n",
      "245/245 [==============================] - 0s 2ms/step - loss: 28555442.0000 - accuracy: 0.1102\n",
      "Epoch 4/20\n",
      "245/245 [==============================] - 0s 2ms/step - loss: 39979388.0000 - accuracy: 0.0939\n",
      "Epoch 5/20\n",
      "245/245 [==============================] - 0s 2ms/step - loss: 42653676.0000 - accuracy: 0.0694\n",
      "Epoch 6/20\n",
      "245/245 [==============================] - 0s 2ms/step - loss: 50643148.0000 - accuracy: 0.0694\n",
      "Epoch 7/20\n",
      "245/245 [==============================] - 1s 2ms/step - loss: 36178704.0000 - accuracy: 0.0653\n",
      "Epoch 8/20\n",
      "245/245 [==============================] - 0s 2ms/step - loss: 43996488.0000 - accuracy: 0.0571\n",
      "Epoch 9/20\n",
      "245/245 [==============================] - 0s 2ms/step - loss: 66341896.0000 - accuracy: 0.0612\n",
      "Epoch 10/20\n",
      "245/245 [==============================] - 0s 2ms/step - loss: 83357664.0000 - accuracy: 0.0612\n",
      "Epoch 11/20\n",
      "245/245 [==============================] - 0s 2ms/step - loss: 123873248.0000 - accuracy: 0.0571\n",
      "Epoch 12/20\n",
      "245/245 [==============================] - 0s 2ms/step - loss: 156406576.0000 - accuracy: 0.0612\n",
      "Epoch 13/20\n",
      "245/245 [==============================] - 0s 2ms/step - loss: 205007264.0000 - accuracy: 0.0571\n",
      "Epoch 14/20\n",
      "245/245 [==============================] - 1s 3ms/step - loss: 268879456.0000 - accuracy: 0.0612\n",
      "Epoch 15/20\n",
      "245/245 [==============================] - 1s 2ms/step - loss: 332529440.0000 - accuracy: 0.0571\n",
      "Epoch 16/20\n",
      "245/245 [==============================] - 0s 2ms/step - loss: 407205216.0000 - accuracy: 0.0612\n",
      "Epoch 17/20\n",
      "245/245 [==============================] - 0s 2ms/step - loss: 521947488.0000 - accuracy: 0.0571\n",
      "Epoch 18/20\n",
      "245/245 [==============================] - 0s 2ms/step - loss: 580865408.0000 - accuracy: 0.0571\n",
      "Epoch 19/20\n",
      "245/245 [==============================] - 0s 2ms/step - loss: 780232064.0000 - accuracy: 0.0653\n",
      "Epoch 20/20\n",
      "245/245 [==============================] - 0s 2ms/step - loss: 795277440.0000 - accuracy: 0.0612\n"
     ]
    }
   ],
   "source": [
    "history = model.fit(x_train, y_train, epochs=20, batch_size=100)"
   ]
  },
  {
   "cell_type": "code",
   "execution_count": 31,
   "id": "4f2b1ef2",
   "metadata": {
    "execution": {
     "iopub.execute_input": "2022-09-20T14:15:42.773687Z",
     "iopub.status.busy": "2022-09-20T14:15:42.773385Z",
     "iopub.status.idle": "2022-09-20T14:15:44.208671Z",
     "shell.execute_reply": "2022-09-20T14:15:44.207603Z"
    },
    "papermill": {
     "duration": 1.458545,
     "end_time": "2022-09-20T14:15:44.210937",
     "exception": false,
     "start_time": "2022-09-20T14:15:42.752392",
     "status": "completed"
    },
    "tags": []
   },
   "outputs": [
    {
     "name": "stdout",
     "output_type": "stream",
     "text": [
      "329/329 [==============================] - 1s 2ms/step - loss: 604373568.0000 - accuracy: 0.0000e+00\n",
      "Test loss: 604373568.0\n",
      "Test accuracy: 0.0\n"
     ]
    }
   ],
   "source": [
    "test_loss, test_accuracy = model.evaluate(x_test, y_test)\n",
    "print('Test loss: {}'.format(test_loss))\n",
    "print('Test accuracy: {}'.format(test_accuracy))"
   ]
  },
  {
   "cell_type": "code",
   "execution_count": 32,
   "id": "98155c85",
   "metadata": {
    "execution": {
     "iopub.execute_input": "2022-09-20T14:15:44.254616Z",
     "iopub.status.busy": "2022-09-20T14:15:44.253997Z",
     "iopub.status.idle": "2022-09-20T14:15:44.518983Z",
     "shell.execute_reply": "2022-09-20T14:15:44.518058Z"
    },
    "papermill": {
     "duration": 0.289019,
     "end_time": "2022-09-20T14:15:44.520950",
     "exception": false,
     "start_time": "2022-09-20T14:15:44.231931",
     "status": "completed"
    },
    "tags": []
   },
   "outputs": [
    {
     "data": {
      "text/plain": [
       "Text(0.5, 1.0, 'Loss Curves - before regularisation')"
      ]
     },
     "execution_count": 32,
     "metadata": {},
     "output_type": "execute_result"
    },
    {
     "data": {
      "image/png": "[encoded data removed]",
      "text/plain": [
       "<Figure size 432x288 with 1 Axes>"
      ]
     },
     "metadata": {
      "needs_background": "light"
     },
     "output_type": "display_data"
    }
   ],
   "source": [
    "plt.figure()\n",
    "plt.plot(history.history['loss'], 'blue')\n",
    "plt.plot(history.history['accuracy'], 'red')\n",
    "plt.legend(['Loss', 'Acc'])\n",
    "plt.xlabel('Epochs')\n",
    "plt.ylabel('Loss')\n",
    "plt.title('Loss Curves - before regularisation')"
   ]
  },
  {
   "cell_type": "code",
   "execution_count": 33,
   "id": "4e5d5e3c",
   "metadata": {
    "execution": {
     "iopub.execute_input": "2022-09-20T14:15:44.567038Z",
     "iopub.status.busy": "2022-09-20T14:15:44.566233Z",
     "iopub.status.idle": "2022-09-20T14:15:44.629734Z",
     "shell.execute_reply": "2022-09-20T14:15:44.628856Z"
    },
    "papermill": {
     "duration": 0.087681,
     "end_time": "2022-09-20T14:15:44.631659",
     "exception": false,
     "start_time": "2022-09-20T14:15:44.543978",
     "status": "completed"
    },
    "tags": []
   },
   "outputs": [],
   "source": [
    "#Although the validation and training loss seem great, we can see that the validation #loss increases.\n",
    "#We can introduce regularization\n",
    "from tensorflow.keras.layers import Dropout\n",
    "reg_model = Sequential()\n",
    "reg_model.add(Dense(64, activation='relu', input_shape=(new_dimension,)))\n",
    "reg_model.add(Dropout(0.2))\n",
    "reg_model.add(Dense(64, activation='relu'))\n",
    "reg_model.add(Dropout(0.2))\n",
    "reg_model.add(Dense(32, activation='relu'))\n",
    "reg_model.add(Dropout(0.2))\n",
    "reg_model.add(Dense(32, activation='relu'))\n",
    "reg_model.add(Dropout(0.2))\n",
    "reg_model.add(Dense(32, activation='relu'))\n",
    "reg_model.add(Dropout(0.2))\n",
    "reg_model.add(Dense(no_labels, activation='softmax'))\n",
    "\n",
    "reg_model.compile(optimizer='adam', loss=tf.keras.losses.categorical_crossentropy, \n",
    " metrics=['accuracy'])"
   ]
  },
  {
   "cell_type": "code",
   "execution_count": 34,
   "id": "96b86b19",
   "metadata": {
    "execution": {
     "iopub.execute_input": "2022-09-20T14:15:44.675096Z",
     "iopub.status.busy": "2022-09-20T14:15:44.674306Z",
     "iopub.status.idle": "2022-09-20T14:15:57.122610Z",
     "shell.execute_reply": "2022-09-20T14:15:57.121697Z"
    },
    "papermill": {
     "duration": 12.472038,
     "end_time": "2022-09-20T14:15:57.124647",
     "exception": false,
     "start_time": "2022-09-20T14:15:44.652609",
     "status": "completed"
    },
    "tags": []
   },
   "outputs": [
    {
     "name": "stdout",
     "output_type": "stream",
     "text": [
      "Epoch 1/20\n",
      "245/245 [==============================] - 1s 2ms/step - loss: 15118765.0000 - accuracy: 0.0393\n",
      "Epoch 2/20\n",
      "245/245 [==============================] - 1s 2ms/step - loss: 2966211840.0000 - accuracy: 0.1031\n",
      "Epoch 3/20\n",
      "245/245 [==============================] - 1s 2ms/step - loss: 45265670144.0000 - accuracy: 0.1080\n",
      "Epoch 4/20\n",
      "245/245 [==============================] - 1s 2ms/step - loss: 259548495872.0000 - accuracy: 0.1078\n",
      "Epoch 5/20\n",
      "245/245 [==============================] - 1s 2ms/step - loss: 907237851136.0000 - accuracy: 0.1063\n",
      "Epoch 6/20\n",
      "245/245 [==============================] - 1s 2ms/step - loss: 2362250100736.0000 - accuracy: 0.1090\n",
      "Epoch 7/20\n",
      "245/245 [==============================] - 1s 2ms/step - loss: 5122707423232.0000 - accuracy: 0.1109\n",
      "Epoch 8/20\n",
      "245/245 [==============================] - 1s 2ms/step - loss: 9719684005888.0000 - accuracy: 0.1092\n",
      "Epoch 9/20\n",
      "245/245 [==============================] - 1s 2ms/step - loss: 16792922619904.0000 - accuracy: 0.1098\n",
      "Epoch 10/20\n",
      "245/245 [==============================] - 1s 4ms/step - loss: 27099454767104.0000 - accuracy: 0.1107\n",
      "Epoch 11/20\n",
      "245/245 [==============================] - 1s 3ms/step - loss: 41232713646080.0000 - accuracy: 0.1100\n",
      "Epoch 12/20\n",
      "245/245 [==============================] - 1s 2ms/step - loss: 60044536184832.0000 - accuracy: 0.1091\n",
      "Epoch 13/20\n",
      "245/245 [==============================] - 1s 2ms/step - loss: 84252116910080.0000 - accuracy: 0.1093\n",
      "Epoch 14/20\n",
      "245/245 [==============================] - 1s 2ms/step - loss: 114718131879936.0000 - accuracy: 0.1085\n",
      "Epoch 15/20\n",
      "245/245 [==============================] - 1s 2ms/step - loss: 152840672641024.0000 - accuracy: 0.1108\n",
      "Epoch 16/20\n",
      "245/245 [==============================] - 1s 2ms/step - loss: 198425274482688.0000 - accuracy: 0.1096\n",
      "Epoch 17/20\n",
      "245/245 [==============================] - 1s 2ms/step - loss: 253726082203648.0000 - accuracy: 0.1089\n",
      "Epoch 18/20\n",
      "245/245 [==============================] - 1s 2ms/step - loss: 318522425081856.0000 - accuracy: 0.1100\n",
      "Epoch 19/20\n",
      "245/245 [==============================] - 1s 2ms/step - loss: 393124765499392.0000 - accuracy: 0.1082\n",
      "Epoch 20/20\n",
      "245/245 [==============================] - 1s 2ms/step - loss: 479692314378240.0000 - accuracy: 0.1100\n"
     ]
    }
   ],
   "source": [
    "reg_history = reg_model.fit(x_train, y_train, epochs=20, batch_size=100)"
   ]
  },
  {
   "cell_type": "code",
   "execution_count": 35,
   "id": "c9994736",
   "metadata": {
    "execution": {
     "iopub.execute_input": "2022-09-20T14:15:57.194342Z",
     "iopub.status.busy": "2022-09-20T14:15:57.193989Z",
     "iopub.status.idle": "2022-09-20T14:15:57.965285Z",
     "shell.execute_reply": "2022-09-20T14:15:57.964144Z"
    },
    "papermill": {
     "duration": 0.809076,
     "end_time": "2022-09-20T14:15:57.967965",
     "exception": false,
     "start_time": "2022-09-20T14:15:57.158889",
     "status": "completed"
    },
    "tags": []
   },
   "outputs": [
    {
     "name": "stdout",
     "output_type": "stream",
     "text": [
      "329/329 [==============================] - 1s 2ms/step - loss: 319218444664832.0000 - accuracy: 0.0000e+00\n",
      "Test loss: 319218444664832.0\n",
      "Test accuracy: 0.0\n"
     ]
    }
   ],
   "source": [
    "#Regularized\n",
    "test_loss, test_accuracy = reg_model.evaluate(x_test, y_test)\n",
    "print('Test loss: {}'.format(test_loss))\n",
    "test_accuracy = round(test_accuracy,1)\n",
    "print('Test accuracy: {}'.format(test_accuracy))"
   ]
  },
  {
   "cell_type": "code",
   "execution_count": 36,
   "id": "b9ef5719",
   "metadata": {
    "execution": {
     "iopub.execute_input": "2022-09-20T14:15:58.039838Z",
     "iopub.status.busy": "2022-09-20T14:15:58.038372Z",
     "iopub.status.idle": "2022-09-20T14:15:58.275015Z",
     "shell.execute_reply": "2022-09-20T14:15:58.274079Z"
    },
    "papermill": {
     "duration": 0.274125,
     "end_time": "2022-09-20T14:15:58.277295",
     "exception": false,
     "start_time": "2022-09-20T14:15:58.003170",
     "status": "completed"
    },
    "tags": []
   },
   "outputs": [
    {
     "data": {
      "text/plain": [
       "Text(0.5, 1.0, 'Loss Curves - after regularisation')"
      ]
     },
     "execution_count": 36,
     "metadata": {},
     "output_type": "execute_result"
    },
    {
     "data": {
      "image/png": "[encoded data removed]",
      "text/plain": [
       "<Figure size 432x288 with 1 Axes>"
      ]
     },
     "metadata": {
      "needs_background": "light"
     },
     "output_type": "display_data"
    }
   ],
   "source": [
    "plt.figure()\n",
    "plt.plot(reg_history.history['loss'], 'blue')\n",
    "plt.plot(reg_history.history['accuracy'], 'red')\n",
    "plt.legend(['loss', 'accuracy'])\n",
    "plt.xlabel('Epochs')\n",
    "plt.ylabel('Loss')\n",
    "plt.title('Loss Curves - after regularisation')"
   ]
  },
  {
   "cell_type": "code",
   "execution_count": null,
   "id": "3148da77",
   "metadata": {
    "papermill": {
     "duration": 0.034061,
     "end_time": "2022-09-20T14:15:58.346780",
     "exception": false,
     "start_time": "2022-09-20T14:15:58.312719",
     "status": "completed"
    },
    "tags": []
   },
   "outputs": [],
   "source": []
  }
 ],
 "metadata": {
  "kernelspec": {
   "display_name": "Python 3",
   "language": "python",
   "name": "python3"
  },
  "language_info": {
   "codemirror_mode": {
    "name": "ipython",
    "version": 3
   },
   "file_extension": ".py",
   "mimetype": "text/x-python",
   "name": "python",
   "nbconvert_exporter": "python",
   "pygments_lexer": "ipython3",
   "version": "3.7.12"
  },
  "papermill": {
   "default_parameters": {},
   "duration": 439.418357,
   "end_time": "2022-09-20T14:16:02.049832",
   "environment_variables": {},
   "exception": null,
   "input_path": "__notebook__.ipynb",
   "output_path": "__notebook__.ipynb",
   "parameters": {},
   "start_time": "2022-09-20T14:08:42.631475",
   "version": "2.3.4"
  },
  "widgets": {
   "application/vnd.jupyter.widget-state+json": {
    "state": {
     "0657d611d0484356a799c51133668ef2": {
      "model_module": "@jupyter-widgets/controls",
      "model_module_version": "1.5.0",
      "model_name": "FloatProgressModel",
      "state": {
       "_dom_classes": [],
       "_model_module": "@jupyter-widgets/controls",
       "_model_module_version": "1.5.0",
       "_model_name": "FloatProgressModel",
       "_view_count": null,
       "_view_module": "@jupyter-widgets/controls",
       "_view_module_version": "1.5.0",
       "_view_name": "ProgressView",
       "bar_style": "success",
       "description": "",
       "description_tooltip": null,
       "layout": "IPY_MODEL_7d74b21bea3f4fb3a627a1530f36e834",
       "max": 1.0,
       "min": 0.0,
       "orientation": "horizontal",
       "style": "IPY_MODEL_9194c017b3ef42628a3b4ae3df358b89",
       "value": 0.0
      }
     },
     "1a0ef1ce157a4205bc9012be98e0fec2": {
      "model_module": "@jupyter-widgets/controls",
      "model_module_version": "1.5.0",
      "model_name": "HBoxModel",
      "state": {
       "_dom_classes": [],
       "_model_module": "@jupyter-widgets/controls",
       "_model_module_version": "1.5.0",
       "_model_name": "HBoxModel",
       "_view_count": null,
       "_view_module": "@jupyter-widgets/controls",
       "_view_module_version": "1.5.0",
       "_view_name": "HBoxView",
       "box_style": "",
       "children": [
        "IPY_MODEL_69f8495395bb4ae7923ffb0bc371f65b",
        "IPY_MODEL_0657d611d0484356a799c51133668ef2",
        "IPY_MODEL_52de4a5703f7405691ea4963d3f801e4"
       ],
       "layout": "IPY_MODEL_b83fef0792754fdb9727733dc211e22a"
      }
     },
     "2100b2b9d9b645489b996d89e76e3149": {
      "model_module": "@jupyter-widgets/controls",
      "model_module_version": "1.5.0",
      "model_name": "DescriptionStyleModel",
      "state": {
       "_model_module": "@jupyter-widgets/controls",
       "_model_module_version": "1.5.0",
       "_model_name": "DescriptionStyleModel",
       "_view_count": null,
       "_view_module": "@jupyter-widgets/base",
       "_view_module_version": "1.2.0",
       "_view_name": "StyleView",
       "description_width": ""
      }
     },
     "23d738f46dba49b09e1b3c62daa89a38": {
      "model_module": "@jupyter-widgets/controls",
      "model_module_version": "1.5.0",
      "model_name": "HBoxModel",
      "state": {
       "_dom_classes": [],
       "_model_module": "@jupyter-widgets/controls",
       "_model_module_version": "1.5.0",
       "_model_name": "HBoxModel",
       "_view_count": null,
       "_view_module": "@jupyter-widgets/controls",
       "_view_module_version": "1.5.0",
       "_view_name": "HBoxView",
       "box_style": "",
       "children": [
        "IPY_MODEL_2fa8959d19fd4b9e8ef1931ea8f597f7",
        "IPY_MODEL_d781d090ab574c288700fb9560c092fd",
        "IPY_MODEL_bd033d551d2147b08d0d015de9ddeeed"
       ],
       "layout": "IPY_MODEL_a54a464dbf604d88ba409a19ed9c0f6d"
      }
     },
     "263f370d8899438e980ba262c85ee007": {
      "model_module": "@jupyter-widgets/base",
      "model_module_version": "1.2.0",
      "model_name": "LayoutModel",
      "state": {
       "_model_module": "@jupyter-widgets/base",
       "_model_module_version": "1.2.0",
       "_model_name": "LayoutModel",
       "_view_count": null,
       "_view_module": "@jupyter-widgets/base",
       "_view_module_version": "1.2.0",
       "_view_name": "LayoutView",
       "align_content": null,
       "align_items": null,
       "align_self": null,
       "border": null,
       "bottom": null,
       "display": null,
       "flex": null,
       "flex_flow": null,
       "grid_area": null,
       "grid_auto_columns": null,
       "grid_auto_flow": null,
       "grid_auto_rows": null,
       "grid_column": null,
       "grid_gap": null,
       "grid_row": null,
       "grid_template_areas": null,
       "grid_template_columns": null,
       "grid_template_rows": null,
       "height": null,
       "justify_content": null,
       "justify_items": null,
       "left": null,
       "margin": null,
       "max_height": null,
       "max_width": null,
       "min_height": null,
       "min_width": null,
       "object_fit": null,
       "object_position": null,
       "order": null,
       "overflow": null,
       "overflow_x": null,
       "overflow_y": null,
       "padding": null,
       "right": null,
       "top": null,
       "visibility": null,
       "width": null
      }
     },
     "2fa8959d19fd4b9e8ef1931ea8f597f7": {
      "model_module": "@jupyter-widgets/controls",
      "model_module_version": "1.5.0",
      "model_name": "HTMLModel",
      "state": {
       "_dom_classes": [],
       "_model_module": "@jupyter-widgets/controls",
       "_model_module_version": "1.5.0",
       "_model_name": "HTMLModel",
       "_view_count": null,
       "_view_module": "@jupyter-widgets/controls",
       "_view_module_version": "1.5.0",
       "_view_name": "HTMLView",
       "description": "",
       "description_tooltip": null,
       "layout": "IPY_MODEL_a7ac7867b937409a9a9661fecf535463",
       "placeholder": "​",
       "style": "IPY_MODEL_dfadc35c99724e1ca0d32fd716c2dfd5",
       "value": "100%"
      }
     },
     "3d3a7ca02cf14c06ad3301128fd1e9cb": {
      "model_module": "@jupyter-widgets/controls",
      "model_module_version": "1.5.0",
      "model_name": "DescriptionStyleModel",
      "state": {
       "_model_module": "@jupyter-widgets/controls",
       "_model_module_version": "1.5.0",
       "_model_name": "DescriptionStyleModel",
       "_view_count": null,
       "_view_module": "@jupyter-widgets/base",
       "_view_module_version": "1.2.0",
       "_view_name": "StyleView",
       "description_width": ""
      }
     },
     "43e1c4213a794d7a80a9f05de291d579": {
      "model_module": "@jupyter-widgets/controls",
      "model_module_version": "1.5.0",
      "model_name": "HTMLModel",
      "state": {
       "_dom_classes": [],
       "_model_module": "@jupyter-widgets/controls",
       "_model_module_version": "1.5.0",
       "_model_name": "HTMLModel",
       "_view_count": null,
       "_view_module": "@jupyter-widgets/controls",
       "_view_module_version": "1.5.0",
       "_view_name": "HTMLView",
       "description": "",
       "description_tooltip": null,
       "layout": "IPY_MODEL_ecaf6a1a7c824d5d96b392061d133a5b",
       "placeholder": "​",
       "style": "IPY_MODEL_ace9e03f772f46569f2a7f79bab3c1e2",
       "value": "100%"
      }
     },
     "52de4a5703f7405691ea4963d3f801e4": {
      "model_module": "@jupyter-widgets/controls",
      "model_module_version": "1.5.0",
      "model_name": "HTMLModel",
      "state": {
       "_dom_classes": [],
       "_model_module": "@jupyter-widgets/controls",
       "_model_module_version": "1.5.0",
       "_model_name": "HTMLModel",
       "_view_count": null,
       "_view_module": "@jupyter-widgets/controls",
       "_view_module_version": "1.5.0",
       "_view_name": "HTMLView",
       "description": "",
       "description_tooltip": null,
       "layout": "IPY_MODEL_5c6c3f48bbfb430e8c896df2348b574e",
       "placeholder": "​",
       "style": "IPY_MODEL_2100b2b9d9b645489b996d89e76e3149",
       "value": " 0/? [00:00&lt;?, ?it/s]"
      }
     },
     "5c6c3f48bbfb430e8c896df2348b574e": {
      "model_module": "@jupyter-widgets/base",
      "model_module_version": "1.2.0",
      "model_name": "LayoutModel",
      "state": {
       "_model_module": "@jupyter-widgets/base",
       "_model_module_version": "1.2.0",
       "_model_name": "LayoutModel",
       "_view_count": null,
       "_view_module": "@jupyter-widgets/base",
       "_view_module_version": "1.2.0",
       "_view_name": "LayoutView",
       "align_content": null,
       "align_items": null,
       "align_self": null,
       "border": null,
       "bottom": null,
       "display": null,
       "flex": null,
       "flex_flow": null,
       "grid_area": null,
       "grid_auto_columns": null,
       "grid_auto_flow": null,
       "grid_auto_rows": null,
       "grid_column": null,
       "grid_gap": null,
       "grid_row": null,
       "grid_template_areas": null,
       "grid_template_columns": null,
       "grid_template_rows": null,
       "height": null,
       "justify_content": null,
       "justify_items": null,
       "left": null,
       "margin": null,
       "max_height": null,
       "max_width": null,
       "min_height": null,
       "min_width": null,
       "object_fit": null,
       "object_position": null,
       "order": null,
       "overflow": null,
       "overflow_x": null,
       "overflow_y": null,
       "padding": null,
       "right": null,
       "top": null,
       "visibility": null,
       "width": null
      }
     },
     "5c6ee83b0422488993348bb9c162052c": {
      "model_module": "@jupyter-widgets/controls",
      "model_module_version": "1.5.0",
      "model_name": "DescriptionStyleModel",
      "state": {
       "_model_module": "@jupyter-widgets/controls",
       "_model_module_version": "1.5.0",
       "_model_name": "DescriptionStyleModel",
       "_view_count": null,
       "_view_module": "@jupyter-widgets/base",
       "_view_module_version": "1.2.0",
       "_view_name": "StyleView",
       "description_width": ""
      }
     },
     "6708227da0784d00b2f114b4af34dadd": {
      "model_module": "@jupyter-widgets/controls",
      "model_module_version": "1.5.0",
      "model_name": "DescriptionStyleModel",
      "state": {
       "_model_module": "@jupyter-widgets/controls",
       "_model_module_version": "1.5.0",
       "_model_name": "DescriptionStyleModel",
       "_view_count": null,
       "_view_module": "@jupyter-widgets/base",
       "_view_module_version": "1.2.0",
       "_view_name": "StyleView",
       "description_width": ""
      }
     },
     "69f8495395bb4ae7923ffb0bc371f65b": {
      "model_module": "@jupyter-widgets/controls",
      "model_module_version": "1.5.0",
      "model_name": "HTMLModel",
      "state": {
       "_dom_classes": [],
       "_model_module": "@jupyter-widgets/controls",
       "_model_module_version": "1.5.0",
       "_model_name": "HTMLModel",
       "_view_count": null,
       "_view_module": "@jupyter-widgets/controls",
       "_view_module_version": "1.5.0",
       "_view_name": "HTMLView",
       "description": "",
       "description_tooltip": null,
       "layout": "IPY_MODEL_9abf6f7ad61e47c1861227c20eb1e6d9",
       "placeholder": "​",
       "style": "IPY_MODEL_5c6ee83b0422488993348bb9c162052c",
       "value": ""
      }
     },
     "6a7c78ce00e04277bf3729f6041368f6": {
      "model_module": "@jupyter-widgets/controls",
      "model_module_version": "1.5.0",
      "model_name": "HBoxModel",
      "state": {
       "_dom_classes": [],
       "_model_module": "@jupyter-widgets/controls",
       "_model_module_version": "1.5.0",
       "_model_name": "HBoxModel",
       "_view_count": null,
       "_view_module": "@jupyter-widgets/controls",
       "_view_module_version": "1.5.0",
       "_view_name": "HBoxView",
       "box_style": "",
       "children": [
        "IPY_MODEL_43e1c4213a794d7a80a9f05de291d579",
        "IPY_MODEL_7d55a8c81e824eab94c8f0e98fa5fe1f",
        "IPY_MODEL_a98543a6d77c4a07b1698a157e05f7d2"
       ],
       "layout": "IPY_MODEL_70560159a00a4e6b8b27dc1daabce62b"
      }
     },
     "70560159a00a4e6b8b27dc1daabce62b": {
      "model_module": "@jupyter-widgets/base",
      "model_module_version": "1.2.0",
      "model_name": "LayoutModel",
      "state": {
       "_model_module": "@jupyter-widgets/base",
       "_model_module_version": "1.2.0",
       "_model_name": "LayoutModel",
       "_view_count": null,
       "_view_module": "@jupyter-widgets/base",
       "_view_module_version": "1.2.0",
       "_view_name": "LayoutView",
       "align_content": null,
       "align_items": null,
       "align_self": null,
       "border": null,
       "bottom": null,
       "display": null,
       "flex": null,
       "flex_flow": null,
       "grid_area": null,
       "grid_auto_columns": null,
       "grid_auto_flow": null,
       "grid_auto_rows": null,
       "grid_column": null,
       "grid_gap": null,
       "grid_row": null,
       "grid_template_areas": null,
       "grid_template_columns": null,
       "grid_template_rows": null,
       "height": null,
       "justify_content": null,
       "justify_items": null,
       "left": null,
       "margin": null,
       "max_height": null,
       "max_width": null,
       "min_height": null,
       "min_width": null,
       "object_fit": null,
       "object_position": null,
       "order": null,
       "overflow": null,
       "overflow_x": null,
       "overflow_y": null,
       "padding": null,
       "right": null,
       "top": null,
       "visibility": null,
       "width": null
      }
     },
     "7d55a8c81e824eab94c8f0e98fa5fe1f": {
      "model_module": "@jupyter-widgets/controls",
      "model_module_version": "1.5.0",
      "model_name": "FloatProgressModel",
      "state": {
       "_dom_classes": [],
       "_model_module": "@jupyter-widgets/controls",
       "_model_module_version": "1.5.0",
       "_model_name": "FloatProgressModel",
       "_view_count": null,
       "_view_module": "@jupyter-widgets/controls",
       "_view_module_version": "1.5.0",
       "_view_name": "ProgressView",
       "bar_style": "success",
       "description": "",
       "description_tooltip": null,
       "layout": "IPY_MODEL_263f370d8899438e980ba262c85ee007",
       "max": 35000.0,
       "min": 0.0,
       "orientation": "horizontal",
       "style": "IPY_MODEL_c9c8a40a4eff479f915d3e8db50aa9f5",
       "value": 35000.0
      }
     },
     "7d74b21bea3f4fb3a627a1530f36e834": {
      "model_module": "@jupyter-widgets/base",
      "model_module_version": "1.2.0",
      "model_name": "LayoutModel",
      "state": {
       "_model_module": "@jupyter-widgets/base",
       "_model_module_version": "1.2.0",
       "_model_name": "LayoutModel",
       "_view_count": null,
       "_view_module": "@jupyter-widgets/base",
       "_view_module_version": "1.2.0",
       "_view_name": "LayoutView",
       "align_content": null,
       "align_items": null,
       "align_self": null,
       "border": null,
       "bottom": null,
       "display": null,
       "flex": null,
       "flex_flow": null,
       "grid_area": null,
       "grid_auto_columns": null,
       "grid_auto_flow": null,
       "grid_auto_rows": null,
       "grid_column": null,
       "grid_gap": null,
       "grid_row": null,
       "grid_template_areas": null,
       "grid_template_columns": null,
       "grid_template_rows": null,
       "height": null,
       "justify_content": null,
       "justify_items": null,
       "left": null,
       "margin": null,
       "max_height": null,
       "max_width": null,
       "min_height": null,
       "min_width": null,
       "object_fit": null,
       "object_position": null,
       "order": null,
       "overflow": null,
       "overflow_x": null,
       "overflow_y": null,
       "padding": null,
       "right": null,
       "top": null,
       "visibility": null,
       "width": "20px"
      }
     },
     "81bd53619fa845618c82e4943a9e3047": {
      "model_module": "@jupyter-widgets/controls",
      "model_module_version": "1.5.0",
      "model_name": "ProgressStyleModel",
      "state": {
       "_model_module": "@jupyter-widgets/controls",
       "_model_module_version": "1.5.0",
       "_model_name": "ProgressStyleModel",
       "_view_count": null,
       "_view_module": "@jupyter-widgets/base",
       "_view_module_version": "1.2.0",
       "_view_name": "StyleView",
       "bar_color": null,
       "description_width": ""
      }
     },
     "820d50eaf2804dd68791d93eb05b5e07": {
      "model_module": "@jupyter-widgets/base",
      "model_module_version": "1.2.0",
      "model_name": "LayoutModel",
      "state": {
       "_model_module": "@jupyter-widgets/base",
       "_model_module_version": "1.2.0",
       "_model_name": "LayoutModel",
       "_view_count": null,
       "_view_module": "@jupyter-widgets/base",
       "_view_module_version": "1.2.0",
       "_view_name": "LayoutView",
       "align_content": null,
       "align_items": null,
       "align_self": null,
       "border": null,
       "bottom": null,
       "display": null,
       "flex": null,
       "flex_flow": null,
       "grid_area": null,
       "grid_auto_columns": null,
       "grid_auto_flow": null,
       "grid_auto_rows": null,
       "grid_column": null,
       "grid_gap": null,
       "grid_row": null,
       "grid_template_areas": null,
       "grid_template_columns": null,
       "grid_template_rows": null,
       "height": null,
       "justify_content": null,
       "justify_items": null,
       "left": null,
       "margin": null,
       "max_height": null,
       "max_width": null,
       "min_height": null,
       "min_width": null,
       "object_fit": null,
       "object_position": null,
       "order": null,
       "overflow": null,
       "overflow_x": null,
       "overflow_y": null,
       "padding": null,
       "right": null,
       "top": null,
       "visibility": null,
       "width": null
      }
     },
     "9194c017b3ef42628a3b4ae3df358b89": {
      "model_module": "@jupyter-widgets/controls",
      "model_module_version": "1.5.0",
      "model_name": "ProgressStyleModel",
      "state": {
       "_model_module": "@jupyter-widgets/controls",
       "_model_module_version": "1.5.0",
       "_model_name": "ProgressStyleModel",
       "_view_count": null,
       "_view_module": "@jupyter-widgets/base",
       "_view_module_version": "1.2.0",
       "_view_name": "StyleView",
       "bar_color": null,
       "description_width": ""
      }
     },
     "9abf6f7ad61e47c1861227c20eb1e6d9": {
      "model_module": "@jupyter-widgets/base",
      "model_module_version": "1.2.0",
      "model_name": "LayoutModel",
      "state": {
       "_model_module": "@jupyter-widgets/base",
       "_model_module_version": "1.2.0",
       "_model_name": "LayoutModel",
       "_view_count": null,
       "_view_module": "@jupyter-widgets/base",
       "_view_module_version": "1.2.0",
       "_view_name": "LayoutView",
       "align_content": null,
       "align_items": null,
       "align_self": null,
       "border": null,
       "bottom": null,
       "display": null,
       "flex": null,
       "flex_flow": null,
       "grid_area": null,
       "grid_auto_columns": null,
       "grid_auto_flow": null,
       "grid_auto_rows": null,
       "grid_column": null,
       "grid_gap": null,
       "grid_row": null,
       "grid_template_areas": null,
       "grid_template_columns": null,
       "grid_template_rows": null,
       "height": null,
       "justify_content": null,
       "justify_items": null,
       "left": null,
       "margin": null,
       "max_height": null,
       "max_width": null,
       "min_height": null,
       "min_width": null,
       "object_fit": null,
       "object_position": null,
       "order": null,
       "overflow": null,
       "overflow_x": null,
       "overflow_y": null,
       "padding": null,
       "right": null,
       "top": null,
       "visibility": null,
       "width": null
      }
     },
     "a54a464dbf604d88ba409a19ed9c0f6d": {
      "model_module": "@jupyter-widgets/base",
      "model_module_version": "1.2.0",
      "model_name": "LayoutModel",
      "state": {
       "_model_module": "@jupyter-widgets/base",
       "_model_module_version": "1.2.0",
       "_model_name": "LayoutModel",
       "_view_count": null,
       "_view_module": "@jupyter-widgets/base",
       "_view_module_version": "1.2.0",
       "_view_name": "LayoutView",
       "align_content": null,
       "align_items": null,
       "align_self": null,
       "border": null,
       "bottom": null,
       "display": null,
       "flex": null,
       "flex_flow": null,
       "grid_area": null,
       "grid_auto_columns": null,
       "grid_auto_flow": null,
       "grid_auto_rows": null,
       "grid_column": null,
       "grid_gap": null,
       "grid_row": null,
       "grid_template_areas": null,
       "grid_template_columns": null,
       "grid_template_rows": null,
       "height": null,
       "justify_content": null,
       "justify_items": null,
       "left": null,
       "margin": null,
       "max_height": null,
       "max_width": null,
       "min_height": null,
       "min_width": null,
       "object_fit": null,
       "object_position": null,
       "order": null,
       "overflow": null,
       "overflow_x": null,
       "overflow_y": null,
       "padding": null,
       "right": null,
       "top": null,
       "visibility": null,
       "width": null
      }
     },
     "a7ac7867b937409a9a9661fecf535463": {
      "model_module": "@jupyter-widgets/base",
      "model_module_version": "1.2.0",
      "model_name": "LayoutModel",
      "state": {
       "_model_module": "@jupyter-widgets/base",
       "_model_module_version": "1.2.0",
       "_model_name": "LayoutModel",
       "_view_count": null,
       "_view_module": "@jupyter-widgets/base",
       "_view_module_version": "1.2.0",
       "_view_name": "LayoutView",
       "align_content": null,
       "align_items": null,
       "align_self": null,
       "border": null,
       "bottom": null,
       "display": null,
       "flex": null,
       "flex_flow": null,
       "grid_area": null,
       "grid_auto_columns": null,
       "grid_auto_flow": null,
       "grid_auto_rows": null,
       "grid_column": null,
       "grid_gap": null,
       "grid_row": null,
       "grid_template_areas": null,
       "grid_template_columns": null,
       "grid_template_rows": null,
       "height": null,
       "justify_content": null,
       "justify_items": null,
       "left": null,
       "margin": null,
       "max_height": null,
       "max_width": null,
       "min_height": null,
       "min_width": null,
       "object_fit": null,
       "object_position": null,
       "order": null,
       "overflow": null,
       "overflow_x": null,
       "overflow_y": null,
       "padding": null,
       "right": null,
       "top": null,
       "visibility": null,
       "width": null
      }
     },
     "a98543a6d77c4a07b1698a157e05f7d2": {
      "model_module": "@jupyter-widgets/controls",
      "model_module_version": "1.5.0",
      "model_name": "HTMLModel",
      "state": {
       "_dom_classes": [],
       "_model_module": "@jupyter-widgets/controls",
       "_model_module_version": "1.5.0",
       "_model_name": "HTMLModel",
       "_view_count": null,
       "_view_module": "@jupyter-widgets/controls",
       "_view_module_version": "1.5.0",
       "_view_name": "HTMLView",
       "description": "",
       "description_tooltip": null,
       "layout": "IPY_MODEL_820d50eaf2804dd68791d93eb05b5e07",
       "placeholder": "​",
       "style": "IPY_MODEL_6708227da0784d00b2f114b4af34dadd",
       "value": " 35000/35000 [04:48&lt;00:00, 102.12it/s]"
      }
     },
     "ace9e03f772f46569f2a7f79bab3c1e2": {
      "model_module": "@jupyter-widgets/controls",
      "model_module_version": "1.5.0",
      "model_name": "DescriptionStyleModel",
      "state": {
       "_model_module": "@jupyter-widgets/controls",
       "_model_module_version": "1.5.0",
       "_model_name": "DescriptionStyleModel",
       "_view_count": null,
       "_view_module": "@jupyter-widgets/base",
       "_view_module_version": "1.2.0",
       "_view_name": "StyleView",
       "description_width": ""
      }
     },
     "b83fef0792754fdb9727733dc211e22a": {
      "model_module": "@jupyter-widgets/base",
      "model_module_version": "1.2.0",
      "model_name": "LayoutModel",
      "state": {
       "_model_module": "@jupyter-widgets/base",
       "_model_module_version": "1.2.0",
       "_model_name": "LayoutModel",
       "_view_count": null,
       "_view_module": "@jupyter-widgets/base",
       "_view_module_version": "1.2.0",
       "_view_name": "LayoutView",
       "align_content": null,
       "align_items": null,
       "align_self": null,
       "border": null,
       "bottom": null,
       "display": null,
       "flex": null,
       "flex_flow": null,
       "grid_area": null,
       "grid_auto_columns": null,
       "grid_auto_flow": null,
       "grid_auto_rows": null,
       "grid_column": null,
       "grid_gap": null,
       "grid_row": null,
       "grid_template_areas": null,
       "grid_template_columns": null,
       "grid_template_rows": null,
       "height": null,
       "justify_content": null,
       "justify_items": null,
       "left": null,
       "margin": null,
       "max_height": null,
       "max_width": null,
       "min_height": null,
       "min_width": null,
       "object_fit": null,
       "object_position": null,
       "order": null,
       "overflow": null,
       "overflow_x": null,
       "overflow_y": null,
       "padding": null,
       "right": null,
       "top": null,
       "visibility": null,
       "width": null
      }
     },
     "bd033d551d2147b08d0d015de9ddeeed": {
      "model_module": "@jupyter-widgets/controls",
      "model_module_version": "1.5.0",
      "model_name": "HTMLModel",
      "state": {
       "_dom_classes": [],
       "_model_module": "@jupyter-widgets/controls",
       "_model_module_version": "1.5.0",
       "_model_name": "HTMLModel",
       "_view_count": null,
       "_view_module": "@jupyter-widgets/controls",
       "_view_module_version": "1.5.0",
       "_view_name": "HTMLView",
       "description": "",
       "description_tooltip": null,
       "layout": "IPY_MODEL_c46a2343a6b8448bbffca68d6c926211",
       "placeholder": "​",
       "style": "IPY_MODEL_3d3a7ca02cf14c06ad3301128fd1e9cb",
       "value": " 40479/40479 [00:00&lt;00:00, 677439.46it/s]"
      }
     },
     "c46a2343a6b8448bbffca68d6c926211": {
      "model_module": "@jupyter-widgets/base",
      "model_module_version": "1.2.0",
      "model_name": "LayoutModel",
      "state": {
       "_model_module": "@jupyter-widgets/base",
       "_model_module_version": "1.2.0",
       "_model_name": "LayoutModel",
       "_view_count": null,
       "_view_module": "@jupyter-widgets/base",
       "_view_module_version": "1.2.0",
       "_view_name": "LayoutView",
       "align_content": null,
       "align_items": null,
       "align_self": null,
       "border": null,
       "bottom": null,
       "display": null,
       "flex": null,
       "flex_flow": null,
       "grid_area": null,
       "grid_auto_columns": null,
       "grid_auto_flow": null,
       "grid_auto_rows": null,
       "grid_column": null,
       "grid_gap": null,
       "grid_row": null,
       "grid_template_areas": null,
       "grid_template_columns": null,
       "grid_template_rows": null,
       "height": null,
       "justify_content": null,
       "justify_items": null,
       "left": null,
       "margin": null,
       "max_height": null,
       "max_width": null,
       "min_height": null,
       "min_width": null,
       "object_fit": null,
       "object_position": null,
       "order": null,
       "overflow": null,
       "overflow_x": null,
       "overflow_y": null,
       "padding": null,
       "right": null,
       "top": null,
       "visibility": null,
       "width": null
      }
     },
     "c9c8a40a4eff479f915d3e8db50aa9f5": {
      "model_module": "@jupyter-widgets/controls",
      "model_module_version": "1.5.0",
      "model_name": "ProgressStyleModel",
      "state": {
       "_model_module": "@jupyter-widgets/controls",
       "_model_module_version": "1.5.0",
       "_model_name": "ProgressStyleModel",
       "_view_count": null,
       "_view_module": "@jupyter-widgets/base",
       "_view_module_version": "1.2.0",
       "_view_name": "StyleView",
       "bar_color": null,
       "description_width": ""
      }
     },
     "d74b2dfa3a664e64886fb58cee222b77": {
      "model_module": "@jupyter-widgets/base",
      "model_module_version": "1.2.0",
      "model_name": "LayoutModel",
      "state": {
       "_model_module": "@jupyter-widgets/base",
       "_model_module_version": "1.2.0",
       "_model_name": "LayoutModel",
       "_view_count": null,
       "_view_module": "@jupyter-widgets/base",
       "_view_module_version": "1.2.0",
       "_view_name": "LayoutView",
       "align_content": null,
       "align_items": null,
       "align_self": null,
       "border": null,
       "bottom": null,
       "display": null,
       "flex": null,
       "flex_flow": null,
       "grid_area": null,
       "grid_auto_columns": null,
       "grid_auto_flow": null,
       "grid_auto_rows": null,
       "grid_column": null,
       "grid_gap": null,
       "grid_row": null,
       "grid_template_areas": null,
       "grid_template_columns": null,
       "grid_template_rows": null,
       "height": null,
       "justify_content": null,
       "justify_items": null,
       "left": null,
       "margin": null,
       "max_height": null,
       "max_width": null,
       "min_height": null,
       "min_width": null,
       "object_fit": null,
       "object_position": null,
       "order": null,
       "overflow": null,
       "overflow_x": null,
       "overflow_y": null,
       "padding": null,
       "right": null,
       "top": null,
       "visibility": null,
       "width": null
      }
     },
     "d781d090ab574c288700fb9560c092fd": {
      "model_module": "@jupyter-widgets/controls",
      "model_module_version": "1.5.0",
      "model_name": "FloatProgressModel",
      "state": {
       "_dom_classes": [],
       "_model_module": "@jupyter-widgets/controls",
       "_model_module_version": "1.5.0",
       "_model_name": "FloatProgressModel",
       "_view_count": null,
       "_view_module": "@jupyter-widgets/controls",
       "_view_module_version": "1.5.0",
       "_view_name": "ProgressView",
       "bar_style": "success",
       "description": "",
       "description_tooltip": null,
       "layout": "IPY_MODEL_d74b2dfa3a664e64886fb58cee222b77",
       "max": 40479.0,
       "min": 0.0,
       "orientation": "horizontal",
       "style": "IPY_MODEL_81bd53619fa845618c82e4943a9e3047",
       "value": 40479.0
      }
     },
     "dfadc35c99724e1ca0d32fd716c2dfd5": {
      "model_module": "@jupyter-widgets/controls",
      "model_module_version": "1.5.0",
      "model_name": "DescriptionStyleModel",
      "state": {
       "_model_module": "@jupyter-widgets/controls",
       "_model_module_version": "1.5.0",
       "_model_name": "DescriptionStyleModel",
       "_view_count": null,
       "_view_module": "@jupyter-widgets/base",
       "_view_module_version": "1.2.0",
       "_view_name": "StyleView",
       "description_width": ""
      }
     },
     "ecaf6a1a7c824d5d96b392061d133a5b": {
      "model_module": "@jupyter-widgets/base",
      "model_module_version": "1.2.0",
      "model_name": "LayoutModel",
      "state": {
       "_model_module": "@jupyter-widgets/base",
       "_model_module_version": "1.2.0",
       "_model_name": "LayoutModel",
       "_view_count": null,
       "_view_module": "@jupyter-widgets/base",
       "_view_module_version": "1.2.0",
       "_view_name": "LayoutView",
       "align_content": null,
       "align_items": null,
       "align_self": null,
       "border": null,
       "bottom": null,
       "display": null,
       "flex": null,
       "flex_flow": null,
       "grid_area": null,
       "grid_auto_columns": null,
       "grid_auto_flow": null,
       "grid_auto_rows": null,
       "grid_column": null,
       "grid_gap": null,
       "grid_row": null,
       "grid_template_areas": null,
       "grid_template_columns": null,
       "grid_template_rows": null,
       "height": null,
       "justify_content": null,
       "justify_items": null,
       "left": null,
       "margin": null,
       "max_height": null,
       "max_width": null,
       "min_height": null,
       "min_width": null,
       "object_fit": null,
       "object_position": null,
       "order": null,
       "overflow": null,
       "overflow_x": null,
       "overflow_y": null,
       "padding": null,
       "right": null,
       "top": null,
       "visibility": null,
       "width": null
      }
     }
    },
    "version_major": 2,
    "version_minor": 0
   }
  }
 },
 "nbformat": 4,
 "nbformat_minor": 5
}
